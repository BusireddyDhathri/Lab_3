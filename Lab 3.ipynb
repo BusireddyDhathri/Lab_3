{
 "cells": [
  {
   "cell_type": "code",
   "execution_count": 12,
   "id": "6e46dbba",
   "metadata": {},
   "outputs": [
    {
     "data": {
      "text/html": [
       "<div>\n",
       "<style scoped>\n",
       "    .dataframe tbody tr th:only-of-type {\n",
       "        vertical-align: middle;\n",
       "    }\n",
       "\n",
       "    .dataframe tbody tr th {\n",
       "        vertical-align: top;\n",
       "    }\n",
       "\n",
       "    .dataframe thead th {\n",
       "        text-align: right;\n",
       "    }\n",
       "</style>\n",
       "<table border=\"1\" class=\"dataframe\">\n",
       "  <thead>\n",
       "    <tr style=\"text-align: right;\">\n",
       "      <th></th>\n",
       "      <th>dissimilarity_0</th>\n",
       "      <th>dissimilarity_45</th>\n",
       "      <th>dissimilarity_90</th>\n",
       "      <th>dissimilarity_135</th>\n",
       "      <th>correlation_0</th>\n",
       "      <th>correlation_45</th>\n",
       "      <th>correlation_90</th>\n",
       "      <th>correlation_135</th>\n",
       "      <th>homogeneity_0</th>\n",
       "      <th>homogeneity_45</th>\n",
       "      <th>...</th>\n",
       "      <th>contrast_135</th>\n",
       "      <th>ASM_0</th>\n",
       "      <th>ASM_45</th>\n",
       "      <th>ASM_90</th>\n",
       "      <th>ASM_135</th>\n",
       "      <th>energy_0</th>\n",
       "      <th>energy_45</th>\n",
       "      <th>energy_90</th>\n",
       "      <th>energy_135</th>\n",
       "      <th>label</th>\n",
       "    </tr>\n",
       "  </thead>\n",
       "  <tbody>\n",
       "    <tr>\n",
       "      <th>0</th>\n",
       "      <td>3.678102</td>\n",
       "      <td>6.468785</td>\n",
       "      <td>6.257544</td>\n",
       "      <td>6.491273</td>\n",
       "      <td>0.915573</td>\n",
       "      <td>0.018493</td>\n",
       "      <td>0.075505</td>\n",
       "      <td>0.021779</td>\n",
       "      <td>0.275196</td>\n",
       "      <td>0.202223</td>\n",
       "      <td>...</td>\n",
       "      <td>215.975507</td>\n",
       "      <td>0.003788</td>\n",
       "      <td>0.002980</td>\n",
       "      <td>0.003008</td>\n",
       "      <td>0.002954</td>\n",
       "      <td>0.061551</td>\n",
       "      <td>0.054587</td>\n",
       "      <td>0.054849</td>\n",
       "      <td>0.054355</td>\n",
       "      <td>2</td>\n",
       "    </tr>\n",
       "    <tr>\n",
       "      <th>1</th>\n",
       "      <td>4.396102</td>\n",
       "      <td>12.171347</td>\n",
       "      <td>13.892070</td>\n",
       "      <td>13.380560</td>\n",
       "      <td>0.959208</td>\n",
       "      <td>0.717372</td>\n",
       "      <td>0.645733</td>\n",
       "      <td>0.672928</td>\n",
       "      <td>0.354369</td>\n",
       "      <td>0.256529</td>\n",
       "      <td>...</td>\n",
       "      <td>1031.298494</td>\n",
       "      <td>0.003142</td>\n",
       "      <td>0.002297</td>\n",
       "      <td>0.002205</td>\n",
       "      <td>0.002255</td>\n",
       "      <td>0.056056</td>\n",
       "      <td>0.047928</td>\n",
       "      <td>0.046956</td>\n",
       "      <td>0.047492</td>\n",
       "      <td>2</td>\n",
       "    </tr>\n",
       "    <tr>\n",
       "      <th>2</th>\n",
       "      <td>3.334305</td>\n",
       "      <td>4.433875</td>\n",
       "      <td>4.334105</td>\n",
       "      <td>4.405370</td>\n",
       "      <td>0.787040</td>\n",
       "      <td>0.602248</td>\n",
       "      <td>0.619119</td>\n",
       "      <td>0.608713</td>\n",
       "      <td>0.280222</td>\n",
       "      <td>0.224585</td>\n",
       "      <td>...</td>\n",
       "      <td>39.051415</td>\n",
       "      <td>0.003641</td>\n",
       "      <td>0.002988</td>\n",
       "      <td>0.003047</td>\n",
       "      <td>0.003001</td>\n",
       "      <td>0.060337</td>\n",
       "      <td>0.054659</td>\n",
       "      <td>0.055196</td>\n",
       "      <td>0.054781</td>\n",
       "      <td>2</td>\n",
       "    </tr>\n",
       "    <tr>\n",
       "      <th>3</th>\n",
       "      <td>4.314475</td>\n",
       "      <td>5.777836</td>\n",
       "      <td>5.753193</td>\n",
       "      <td>5.763689</td>\n",
       "      <td>0.756037</td>\n",
       "      <td>0.628341</td>\n",
       "      <td>0.657986</td>\n",
       "      <td>0.623906</td>\n",
       "      <td>0.252098</td>\n",
       "      <td>0.192253</td>\n",
       "      <td>...</td>\n",
       "      <td>92.771572</td>\n",
       "      <td>0.002579</td>\n",
       "      <td>0.001978</td>\n",
       "      <td>0.001920</td>\n",
       "      <td>0.001995</td>\n",
       "      <td>0.050784</td>\n",
       "      <td>0.044475</td>\n",
       "      <td>0.043812</td>\n",
       "      <td>0.044663</td>\n",
       "      <td>2</td>\n",
       "    </tr>\n",
       "    <tr>\n",
       "      <th>4</th>\n",
       "      <td>5.857288</td>\n",
       "      <td>16.737261</td>\n",
       "      <td>17.875895</td>\n",
       "      <td>17.089386</td>\n",
       "      <td>0.952071</td>\n",
       "      <td>0.403892</td>\n",
       "      <td>0.267009</td>\n",
       "      <td>0.377622</td>\n",
       "      <td>0.201498</td>\n",
       "      <td>0.107262</td>\n",
       "      <td>...</td>\n",
       "      <td>1194.758798</td>\n",
       "      <td>0.001144</td>\n",
       "      <td>0.000805</td>\n",
       "      <td>0.000844</td>\n",
       "      <td>0.000806</td>\n",
       "      <td>0.033822</td>\n",
       "      <td>0.028372</td>\n",
       "      <td>0.029049</td>\n",
       "      <td>0.028390</td>\n",
       "      <td>2</td>\n",
       "    </tr>\n",
       "    <tr>\n",
       "      <th>...</th>\n",
       "      <td>...</td>\n",
       "      <td>...</td>\n",
       "      <td>...</td>\n",
       "      <td>...</td>\n",
       "      <td>...</td>\n",
       "      <td>...</td>\n",
       "      <td>...</td>\n",
       "      <td>...</td>\n",
       "      <td>...</td>\n",
       "      <td>...</td>\n",
       "      <td>...</td>\n",
       "      <td>...</td>\n",
       "      <td>...</td>\n",
       "      <td>...</td>\n",
       "      <td>...</td>\n",
       "      <td>...</td>\n",
       "      <td>...</td>\n",
       "      <td>...</td>\n",
       "      <td>...</td>\n",
       "      <td>...</td>\n",
       "      <td>...</td>\n",
       "    </tr>\n",
       "    <tr>\n",
       "      <th>3248</th>\n",
       "      <td>23.481220</td>\n",
       "      <td>30.345158</td>\n",
       "      <td>30.512421</td>\n",
       "      <td>30.975999</td>\n",
       "      <td>0.535553</td>\n",
       "      <td>0.257932</td>\n",
       "      <td>0.237396</td>\n",
       "      <td>0.235897</td>\n",
       "      <td>0.079017</td>\n",
       "      <td>0.053209</td>\n",
       "      <td>...</td>\n",
       "      <td>2136.592483</td>\n",
       "      <td>0.000208</td>\n",
       "      <td>0.000178</td>\n",
       "      <td>0.000181</td>\n",
       "      <td>0.000175</td>\n",
       "      <td>0.014408</td>\n",
       "      <td>0.013337</td>\n",
       "      <td>0.013463</td>\n",
       "      <td>0.013237</td>\n",
       "      <td>2</td>\n",
       "    </tr>\n",
       "    <tr>\n",
       "      <th>3249</th>\n",
       "      <td>10.396915</td>\n",
       "      <td>12.462028</td>\n",
       "      <td>10.927123</td>\n",
       "      <td>13.065667</td>\n",
       "      <td>0.934857</td>\n",
       "      <td>0.922187</td>\n",
       "      <td>0.943582</td>\n",
       "      <td>0.912712</td>\n",
       "      <td>0.240068</td>\n",
       "      <td>0.229951</td>\n",
       "      <td>...</td>\n",
       "      <td>672.621270</td>\n",
       "      <td>0.006595</td>\n",
       "      <td>0.006695</td>\n",
       "      <td>0.007070</td>\n",
       "      <td>0.006693</td>\n",
       "      <td>0.081207</td>\n",
       "      <td>0.081823</td>\n",
       "      <td>0.084082</td>\n",
       "      <td>0.081810</td>\n",
       "      <td>2</td>\n",
       "    </tr>\n",
       "    <tr>\n",
       "      <th>3250</th>\n",
       "      <td>10.012814</td>\n",
       "      <td>12.596706</td>\n",
       "      <td>10.747684</td>\n",
       "      <td>12.538851</td>\n",
       "      <td>0.886700</td>\n",
       "      <td>0.827074</td>\n",
       "      <td>0.864881</td>\n",
       "      <td>0.827950</td>\n",
       "      <td>0.208428</td>\n",
       "      <td>0.204580</td>\n",
       "      <td>...</td>\n",
       "      <td>793.339597</td>\n",
       "      <td>0.004498</td>\n",
       "      <td>0.004434</td>\n",
       "      <td>0.004641</td>\n",
       "      <td>0.004474</td>\n",
       "      <td>0.067069</td>\n",
       "      <td>0.066591</td>\n",
       "      <td>0.068127</td>\n",
       "      <td>0.066891</td>\n",
       "      <td>2</td>\n",
       "    </tr>\n",
       "    <tr>\n",
       "      <th>3251</th>\n",
       "      <td>9.368169</td>\n",
       "      <td>11.030546</td>\n",
       "      <td>9.425825</td>\n",
       "      <td>10.964421</td>\n",
       "      <td>0.894877</td>\n",
       "      <td>0.866559</td>\n",
       "      <td>0.900581</td>\n",
       "      <td>0.867088</td>\n",
       "      <td>0.220739</td>\n",
       "      <td>0.212628</td>\n",
       "      <td>...</td>\n",
       "      <td>618.580131</td>\n",
       "      <td>0.004704</td>\n",
       "      <td>0.004694</td>\n",
       "      <td>0.004925</td>\n",
       "      <td>0.004767</td>\n",
       "      <td>0.068582</td>\n",
       "      <td>0.068510</td>\n",
       "      <td>0.070177</td>\n",
       "      <td>0.069047</td>\n",
       "      <td>2</td>\n",
       "    </tr>\n",
       "    <tr>\n",
       "      <th>3252</th>\n",
       "      <td>15.930746</td>\n",
       "      <td>21.351070</td>\n",
       "      <td>20.987754</td>\n",
       "      <td>21.566441</td>\n",
       "      <td>0.571714</td>\n",
       "      <td>0.172071</td>\n",
       "      <td>0.207177</td>\n",
       "      <td>0.153181</td>\n",
       "      <td>0.091791</td>\n",
       "      <td>0.066729</td>\n",
       "      <td>...</td>\n",
       "      <td>1132.676591</td>\n",
       "      <td>0.000372</td>\n",
       "      <td>0.000320</td>\n",
       "      <td>0.000319</td>\n",
       "      <td>0.000317</td>\n",
       "      <td>0.019284</td>\n",
       "      <td>0.017902</td>\n",
       "      <td>0.017851</td>\n",
       "      <td>0.017811</td>\n",
       "      <td>2</td>\n",
       "    </tr>\n",
       "  </tbody>\n",
       "</table>\n",
       "<p>3253 rows × 25 columns</p>\n",
       "</div>"
      ],
      "text/plain": [
       "      dissimilarity_0  dissimilarity_45  dissimilarity_90  dissimilarity_135  \\\n",
       "0            3.678102          6.468785          6.257544           6.491273   \n",
       "1            4.396102         12.171347         13.892070          13.380560   \n",
       "2            3.334305          4.433875          4.334105           4.405370   \n",
       "3            4.314475          5.777836          5.753193           5.763689   \n",
       "4            5.857288         16.737261         17.875895          17.089386   \n",
       "...               ...               ...               ...                ...   \n",
       "3248        23.481220         30.345158         30.512421          30.975999   \n",
       "3249        10.396915         12.462028         10.927123          13.065667   \n",
       "3250        10.012814         12.596706         10.747684          12.538851   \n",
       "3251         9.368169         11.030546          9.425825          10.964421   \n",
       "3252        15.930746         21.351070         20.987754          21.566441   \n",
       "\n",
       "      correlation_0  correlation_45  correlation_90  correlation_135  \\\n",
       "0          0.915573        0.018493        0.075505         0.021779   \n",
       "1          0.959208        0.717372        0.645733         0.672928   \n",
       "2          0.787040        0.602248        0.619119         0.608713   \n",
       "3          0.756037        0.628341        0.657986         0.623906   \n",
       "4          0.952071        0.403892        0.267009         0.377622   \n",
       "...             ...             ...             ...              ...   \n",
       "3248       0.535553        0.257932        0.237396         0.235897   \n",
       "3249       0.934857        0.922187        0.943582         0.912712   \n",
       "3250       0.886700        0.827074        0.864881         0.827950   \n",
       "3251       0.894877        0.866559        0.900581         0.867088   \n",
       "3252       0.571714        0.172071        0.207177         0.153181   \n",
       "\n",
       "      homogeneity_0  homogeneity_45  ...  contrast_135     ASM_0    ASM_45  \\\n",
       "0          0.275196        0.202223  ...    215.975507  0.003788  0.002980   \n",
       "1          0.354369        0.256529  ...   1031.298494  0.003142  0.002297   \n",
       "2          0.280222        0.224585  ...     39.051415  0.003641  0.002988   \n",
       "3          0.252098        0.192253  ...     92.771572  0.002579  0.001978   \n",
       "4          0.201498        0.107262  ...   1194.758798  0.001144  0.000805   \n",
       "...             ...             ...  ...           ...       ...       ...   \n",
       "3248       0.079017        0.053209  ...   2136.592483  0.000208  0.000178   \n",
       "3249       0.240068        0.229951  ...    672.621270  0.006595  0.006695   \n",
       "3250       0.208428        0.204580  ...    793.339597  0.004498  0.004434   \n",
       "3251       0.220739        0.212628  ...    618.580131  0.004704  0.004694   \n",
       "3252       0.091791        0.066729  ...   1132.676591  0.000372  0.000320   \n",
       "\n",
       "        ASM_90   ASM_135  energy_0  energy_45  energy_90  energy_135  label  \n",
       "0     0.003008  0.002954  0.061551   0.054587   0.054849    0.054355      2  \n",
       "1     0.002205  0.002255  0.056056   0.047928   0.046956    0.047492      2  \n",
       "2     0.003047  0.003001  0.060337   0.054659   0.055196    0.054781      2  \n",
       "3     0.001920  0.001995  0.050784   0.044475   0.043812    0.044663      2  \n",
       "4     0.000844  0.000806  0.033822   0.028372   0.029049    0.028390      2  \n",
       "...        ...       ...       ...        ...        ...         ...    ...  \n",
       "3248  0.000181  0.000175  0.014408   0.013337   0.013463    0.013237      2  \n",
       "3249  0.007070  0.006693  0.081207   0.081823   0.084082    0.081810      2  \n",
       "3250  0.004641  0.004474  0.067069   0.066591   0.068127    0.066891      2  \n",
       "3251  0.004925  0.004767  0.068582   0.068510   0.070177    0.069047      2  \n",
       "3252  0.000319  0.000317  0.019284   0.017902   0.017851    0.017811      2  \n",
       "\n",
       "[3253 rows x 25 columns]"
      ]
     },
     "execution_count": 12,
     "metadata": {},
     "output_type": "execute_result"
    }
   ],
   "source": [
    "import pandas as pd\n",
    "import numpy as ny\n",
    "df=pd.read_excel(r\"C:\\Users\\ADMIN DELL\\Downloads\\GLCM_extended_dataset_31-01-2023.xlsx\")\n",
    "df"
   ]
  },
  {
   "cell_type": "code",
   "execution_count": 13,
   "id": "3420fc61",
   "metadata": {},
   "outputs": [
    {
     "name": "stdout",
     "output_type": "stream",
     "text": [
      "Mean of Class 1 =  18.583229051724988\n",
      "Mean of Class 2 =  0.7026949756996234\n",
      "Intraclass Spread of Class 1 =  24.38252774742544\n",
      "Intraclass Spread of Class 2 =  0.013621212054568944\n",
      "Interclass Distance: 17.880534076025366\n"
     ]
    }
   ],
   "source": [
    "import numpy as ny\n",
    "class1_data=df['dissimilarity_90']\n",
    "class2_data=df['correlation_0']\n",
    "class1_mean=ny.mean(class1_data,axis=0)\n",
    "class2_mean=ny.mean(class2_data,axis=0)\n",
    "class1_variance=ny.var(class1_data, axis=0)\n",
    "class2_variance=ny.var(class2_data, axis=0)\n",
    "interclass_distance=ny.linalg.norm(class1_mean-class2_mean)\n",
    "print(\"Mean of Class 1 = \",class1_mean)\n",
    "print(\"Mean of Class 2 = \",class2_mean)\n",
    "print(\"Intraclass Spread of Class 1 = \",class1_variance)\n",
    "print(\"Intraclass Spread of Class 2 = \",class2_variance)\n",
    "print(\"Interclass Distance:\", interclass_distance)"
   ]
  },
  {
   "cell_type": "code",
   "execution_count": 14,
   "id": "0937f858",
   "metadata": {},
   "outputs": [
    {
     "data": {
      "image/png": "[encoded data removed]",
      "text/plain": [
       "<Figure size 640x480 with 1 Axes>"
      ]
     },
     "metadata": {},
     "output_type": "display_data"
    },
    {
     "name": "stdout",
     "output_type": "stream",
     "text": [
      "Mean of Homogeneity  = 0.08555122715502861\n",
      "Variance of Homogeneity = 0.0011980354324140272\n"
     ]
    }
   ],
   "source": [
    "import matplotlib.pyplot as plt\n",
    "homogeneity_135_data=df['homogeneity_135']\n",
    "num_bins=50\n",
    "plt.hist(homogeneity_135_data, bins=num_bins, edgecolor='k')\n",
    "plt.xlabel('Homogeneity_135')\n",
    "plt.ylabel('Frequency')\n",
    "plt.title('Histogram of Homogeneity')\n",
    "plt.show()\n",
    "homogeneity_mean=ny.mean(homogeneity_135_data)\n",
    "homogeneity_variance=ny.var(homogeneity_135_data)\n",
    "print(f\"Mean of Homogeneity  = {homogeneity_mean}\")\n",
    "print(f\"Variance of Homogeneity = {homogeneity_variance}\")"
   ]
  },
  {
   "cell_type": "code",
   "execution_count": 15,
   "id": "a8ec2cbb",
   "metadata": {},
   "outputs": [
    {
     "data": {
      "image/png": "[encoded data removed]",
      "text/plain": [
       "<Figure size 640x480 with 1 Axes>"
      ]
     },
     "metadata": {},
     "output_type": "display_data"
    }
   ],
   "source": [
    "import matplotlib.pyplot as plt\n",
    "feature_vector1 = df['contrast_0']\n",
    "feature_vector2 = df['ASM_0']\n",
    "r_values = range(1, 11)\n",
    "minkowski_distances = []\n",
    "for r in r_values:\n",
    "    distance=ny.power(ny.sum(ny.power(ny.abs(feature_vector1 - feature_vector2), r)), 1/r)\n",
    "    minkowski_distances.append(distance)\n",
    "plt.plot(r_values, minkowski_distances, marker='o')\n",
    "plt.xlabel('r Value')\n",
    "plt.ylabel('Minkowski Distance')\n",
    "plt.title('Minkowski Distance vs. r')\n",
    "plt.grid(True)\n",
    "plt.show()"
   ]
  },
  {
   "cell_type": "code",
   "execution_count": 17,
   "id": "830fd45c",
   "metadata": {},
   "outputs": [],
   "source": [
    "from sklearn.model_selection import train_test_split\n",
    "X =df.iloc[:,0:26]\n",
    "y =df.iloc[:,[24]]\n",
    "X_train, X_test, y_train, y_test = train_test_split(X, y, test_size=0.3, random_state=42)"
   ]
  },
  {
   "cell_type": "code",
   "execution_count": 9,
   "id": "7248a502",
   "metadata": {},
   "outputs": [
    {
     "name": "stdout",
     "output_type": "stream",
     "text": [
      "Defaulting to user installation because normal site-packages is not writeable\n",
      "Requirement already satisfied: scikit-learn in c:\\programdata\\anaconda3\\lib\\site-packages (1.3.0)\n",
      "Requirement already satisfied: numpy>=1.17.3 in c:\\programdata\\anaconda3\\lib\\site-packages (from scikit-learn) (1.24.3)\n",
      "Requirement already satisfied: scipy>=1.5.0 in c:\\programdata\\anaconda3\\lib\\site-packages (from scikit-learn) (1.10.1)\n",
      "Requirement already satisfied: joblib>=1.1.1 in c:\\programdata\\anaconda3\\lib\\site-packages (from scikit-learn) (1.2.0)\n",
      "Requirement already satisfied: threadpoolctl>=2.0.0 in c:\\programdata\\anaconda3\\lib\\site-packages (from scikit-learn) (2.2.0)\n",
      "Note: you may need to restart the kernel to use updated packages.\n"
     ]
    }
   ],
   "source": [
    "pip install --upgrade scikit-learn"
   ]
  },
  {
   "cell_type": "code",
   "execution_count": 18,
   "id": "e0ad4758",
   "metadata": {},
   "outputs": [
    {
     "data": {
      "text/html": [
       "<style>#sk-container-id-2 {color: black;}#sk-container-id-2 pre{padding: 0;}#sk-container-id-2 div.sk-toggleable {background-color: white;}#sk-container-id-2 label.sk-toggleable__label {cursor: pointer;display: block;width: 100%;margin-bottom: 0;padding: 0.3em;box-sizing: border-box;text-align: center;}#sk-container-id-2 label.sk-toggleable__label-arrow:before {content: \"▸\";float: left;margin-right: 0.25em;color: #696969;}#sk-container-id-2 label.sk-toggleable__label-arrow:hover:before {color: black;}#sk-container-id-2 div.sk-estimator:hover label.sk-toggleable__label-arrow:before {color: black;}#sk-container-id-2 div.sk-toggleable__content {max-height: 0;max-width: 0;overflow: hidden;text-align: left;background-color: #f0f8ff;}#sk-container-id-2 div.sk-toggleable__content pre {margin: 0.2em;color: black;border-radius: 0.25em;background-color: #f0f8ff;}#sk-container-id-2 input.sk-toggleable__control:checked~div.sk-toggleable__content {max-height: 200px;max-width: 100%;overflow: auto;}#sk-container-id-2 input.sk-toggleable__control:checked~label.sk-toggleable__label-arrow:before {content: \"▾\";}#sk-container-id-2 div.sk-estimator input.sk-toggleable__control:checked~label.sk-toggleable__label {background-color: #d4ebff;}#sk-container-id-2 div.sk-label input.sk-toggleable__control:checked~label.sk-toggleable__label {background-color: #d4ebff;}#sk-container-id-2 input.sk-hidden--visually {border: 0;clip: rect(1px 1px 1px 1px);clip: rect(1px, 1px, 1px, 1px);height: 1px;margin: -1px;overflow: hidden;padding: 0;position: absolute;width: 1px;}#sk-container-id-2 div.sk-estimator {font-family: monospace;background-color: #f0f8ff;border: 1px dotted black;border-radius: 0.25em;box-sizing: border-box;margin-bottom: 0.5em;}#sk-container-id-2 div.sk-estimator:hover {background-color: #d4ebff;}#sk-container-id-2 div.sk-parallel-item::after {content: \"\";width: 100%;border-bottom: 1px solid gray;flex-grow: 1;}#sk-container-id-2 div.sk-label:hover label.sk-toggleable__label {background-color: #d4ebff;}#sk-container-id-2 div.sk-serial::before {content: \"\";position: absolute;border-left: 1px solid gray;box-sizing: border-box;top: 0;bottom: 0;left: 50%;z-index: 0;}#sk-container-id-2 div.sk-serial {display: flex;flex-direction: column;align-items: center;background-color: white;padding-right: 0.2em;padding-left: 0.2em;position: relative;}#sk-container-id-2 div.sk-item {position: relative;z-index: 1;}#sk-container-id-2 div.sk-parallel {display: flex;align-items: stretch;justify-content: center;background-color: white;position: relative;}#sk-container-id-2 div.sk-item::before, #sk-container-id-2 div.sk-parallel-item::before {content: \"\";position: absolute;border-left: 1px solid gray;box-sizing: border-box;top: 0;bottom: 0;left: 50%;z-index: -1;}#sk-container-id-2 div.sk-parallel-item {display: flex;flex-direction: column;z-index: 1;position: relative;background-color: white;}#sk-container-id-2 div.sk-parallel-item:first-child::after {align-self: flex-end;width: 50%;}#sk-container-id-2 div.sk-parallel-item:last-child::after {align-self: flex-start;width: 50%;}#sk-container-id-2 div.sk-parallel-item:only-child::after {width: 0;}#sk-container-id-2 div.sk-dashed-wrapped {border: 1px dashed gray;margin: 0 0.4em 0.5em 0.4em;box-sizing: border-box;padding-bottom: 0.4em;background-color: white;}#sk-container-id-2 div.sk-label label {font-family: monospace;font-weight: bold;display: inline-block;line-height: 1.2em;}#sk-container-id-2 div.sk-label-container {text-align: center;}#sk-container-id-2 div.sk-container {/* jupyter's `normalize.less` sets `[hidden] { display: none; }` but bootstrap.min.css set `[hidden] { display: none !important; }` so we also need the `!important` here to be able to override the default hidden behavior on the sphinx rendered scikit-learn.org. See: https://github.com/scikit-learn/scikit-learn/issues/21755 */display: inline-block !important;position: relative;}#sk-container-id-2 div.sk-text-repr-fallback {display: none;}</style><div id=\"sk-container-id-2\" class=\"sk-top-container\"><div class=\"sk-text-repr-fallback\"><pre>KNeighborsClassifier(n_neighbors=3)</pre><b>In a Jupyter environment, please rerun this cell to show the HTML representation or trust the notebook. <br />On GitHub, the HTML representation is unable to render, please try loading this page with nbviewer.org.</b></div><div class=\"sk-container\" hidden><div class=\"sk-item\"><div class=\"sk-estimator sk-toggleable\"><input class=\"sk-toggleable__control sk-hidden--visually\" id=\"sk-estimator-id-2\" type=\"checkbox\" checked><label for=\"sk-estimator-id-2\" class=\"sk-toggleable__label sk-toggleable__label-arrow\">KNeighborsClassifier</label><div class=\"sk-toggleable__content\"><pre>KNeighborsClassifier(n_neighbors=3)</pre></div></div></div></div></div>"
      ],
      "text/plain": [
       "KNeighborsClassifier(n_neighbors=3)"
      ]
     },
     "execution_count": 18,
     "metadata": {},
     "output_type": "execute_result"
    }
   ],
   "source": [
    "from sklearn.neighbors import KNeighborsClassifier\n",
    "neigh = KNeighborsClassifier(n_neighbors=3)\n",
    "neigh.fit(X_train, y_train.values.ravel())"
   ]
  },
  {
   "cell_type": "code",
   "execution_count": 25,
   "id": "e49909ad",
   "metadata": {},
   "outputs": [
    {
     "name": "stdout",
     "output_type": "stream",
     "text": [
      "Defaulting to user installation because normal site-packages is not writeable\n",
      "Requirement already satisfied: numpy in c:\\programdata\\anaconda3\\lib\\site-packages (1.24.3)\n",
      "Collecting numpy\n",
      "  Obtaining dependency information for numpy from https://files.pythonhosted.org/packages/72/b2/02770e60c4e2f7e158d923ab0dea4e9f146a2dbf267fec6d8dc61d475689/numpy-1.25.2-cp311-cp311-win_amd64.whl.metadata\n",
      "  Using cached numpy-1.25.2-cp311-cp311-win_amd64.whl.metadata (5.7 kB)\n",
      "Requirement already satisfied: scikit-learn in c:\\programdata\\anaconda3\\lib\\site-packages (1.3.0)\n",
      "Requirement already satisfied: scipy>=1.5.0 in c:\\programdata\\anaconda3\\lib\\site-packages (from scikit-learn) (1.10.1)\n",
      "Requirement already satisfied: joblib>=1.1.1 in c:\\programdata\\anaconda3\\lib\\site-packages (from scikit-learn) (1.2.0)\n",
      "Requirement already satisfied: threadpoolctl>=2.0.0 in c:\\programdata\\anaconda3\\lib\\site-packages (from scikit-learn) (2.2.0)\n",
      "Using cached numpy-1.25.2-cp311-cp311-win_amd64.whl (15.5 MB)\n",
      "Installing collected packages: numpy\n",
      "Successfully installed numpy-1.25.2\n",
      "Note: you may need to restart the kernel to use updated packages.\n"
     ]
    },
    {
     "name": "stderr",
     "output_type": "stream",
     "text": [
      "  WARNING: The script f2py.exe is installed in 'C:\\Users\\ADMIN DELL\\AppData\\Roaming\\Python\\Python311\\Scripts' which is not on PATH.\n",
      "  Consider adding this directory to PATH or, if you prefer to suppress this warning, use --no-warn-script-location.\n",
      "ERROR: pip's dependency resolver does not currently take into account all the packages that are installed. This behaviour is the source of the following dependency conflicts.\n",
      "gensim 4.3.0 requires FuzzyTM>=0.4.0, which is not installed.\n",
      "tables 3.8.0 requires blosc2~=2.0.0, which is not installed.\n",
      "tables 3.8.0 requires cython>=0.29.21, which is not installed.\n",
      "transformers 2.1.1 requires sentencepiece, which is not installed.\n",
      "numba 0.57.0 requires numpy<1.25,>=1.21, but you have numpy 1.25.2 which is incompatible.\n"
     ]
    }
   ],
   "source": [
    "pip install --upgrade numpy scikit-learn"
   ]
  },
  {
   "cell_type": "code",
   "execution_count": 44,
   "id": "4bef96fa",
   "metadata": {},
   "outputs": [
    {
     "ename": "AttributeError",
     "evalue": "'Flags' object has no attribute 'c_contiguous'",
     "output_type": "error",
     "traceback": [
      "\u001b[1;31m---------------------------------------------------------------------------\u001b[0m",
      "\u001b[1;31mAttributeError\u001b[0m                            Traceback (most recent call last)",
      "Cell \u001b[1;32mIn[44], line 1\u001b[0m\n\u001b[1;32m----> 1\u001b[0m accuracy \u001b[38;5;241m=\u001b[39m neigh\u001b[38;5;241m.\u001b[39mscore(X_test, y_test)\n\u001b[0;32m      2\u001b[0m \u001b[38;5;28mprint\u001b[39m(\u001b[38;5;124mf\u001b[39m\u001b[38;5;124m\"\u001b[39m\u001b[38;5;124mAccuracy = \u001b[39m\u001b[38;5;124m\"\u001b[39m,accuracy)\n",
      "File \u001b[1;32mC:\\ProgramData\\anaconda3\\Lib\\site-packages\\sklearn\\base.py:705\u001b[0m, in \u001b[0;36mClassifierMixin.score\u001b[1;34m(self, X, y, sample_weight)\u001b[0m\n\u001b[0;32m    680\u001b[0m \u001b[38;5;250m\u001b[39m\u001b[38;5;124;03m\"\"\"\u001b[39;00m\n\u001b[0;32m    681\u001b[0m \u001b[38;5;124;03mReturn the mean accuracy on the given test data and labels.\u001b[39;00m\n\u001b[0;32m    682\u001b[0m \n\u001b[1;32m   (...)\u001b[0m\n\u001b[0;32m    701\u001b[0m \u001b[38;5;124;03m    Mean accuracy of ``self.predict(X)`` w.r.t. `y`.\u001b[39;00m\n\u001b[0;32m    702\u001b[0m \u001b[38;5;124;03m\"\"\"\u001b[39;00m\n\u001b[0;32m    703\u001b[0m \u001b[38;5;28;01mfrom\u001b[39;00m \u001b[38;5;21;01m.\u001b[39;00m\u001b[38;5;21;01mmetrics\u001b[39;00m \u001b[38;5;28;01mimport\u001b[39;00m accuracy_score\n\u001b[1;32m--> 705\u001b[0m \u001b[38;5;28;01mreturn\u001b[39;00m accuracy_score(y, \u001b[38;5;28mself\u001b[39m\u001b[38;5;241m.\u001b[39mpredict(X), sample_weight\u001b[38;5;241m=\u001b[39msample_weight)\n",
      "File \u001b[1;32mC:\\ProgramData\\anaconda3\\Lib\\site-packages\\sklearn\\neighbors\\_classification.py:246\u001b[0m, in \u001b[0;36mKNeighborsClassifier.predict\u001b[1;34m(self, X)\u001b[0m\n\u001b[0;32m    244\u001b[0m check_is_fitted(\u001b[38;5;28mself\u001b[39m, \u001b[38;5;124m\"\u001b[39m\u001b[38;5;124m_fit_method\u001b[39m\u001b[38;5;124m\"\u001b[39m)\n\u001b[0;32m    245\u001b[0m \u001b[38;5;28;01mif\u001b[39;00m \u001b[38;5;28mself\u001b[39m\u001b[38;5;241m.\u001b[39mweights \u001b[38;5;241m==\u001b[39m \u001b[38;5;124m\"\u001b[39m\u001b[38;5;124muniform\u001b[39m\u001b[38;5;124m\"\u001b[39m:\n\u001b[1;32m--> 246\u001b[0m     \u001b[38;5;28;01mif\u001b[39;00m \u001b[38;5;28mself\u001b[39m\u001b[38;5;241m.\u001b[39m_fit_method \u001b[38;5;241m==\u001b[39m \u001b[38;5;124m\"\u001b[39m\u001b[38;5;124mbrute\u001b[39m\u001b[38;5;124m\"\u001b[39m \u001b[38;5;129;01mand\u001b[39;00m ArgKminClassMode\u001b[38;5;241m.\u001b[39mis_usable_for(\n\u001b[0;32m    247\u001b[0m         X, \u001b[38;5;28mself\u001b[39m\u001b[38;5;241m.\u001b[39m_fit_X, \u001b[38;5;28mself\u001b[39m\u001b[38;5;241m.\u001b[39mmetric\n\u001b[0;32m    248\u001b[0m     ):\n\u001b[0;32m    249\u001b[0m         probabilities \u001b[38;5;241m=\u001b[39m \u001b[38;5;28mself\u001b[39m\u001b[38;5;241m.\u001b[39mpredict_proba(X)\n\u001b[0;32m    250\u001b[0m         \u001b[38;5;28;01mif\u001b[39;00m \u001b[38;5;28mself\u001b[39m\u001b[38;5;241m.\u001b[39moutputs_2d_:\n",
      "File \u001b[1;32mC:\\ProgramData\\anaconda3\\Lib\\site-packages\\sklearn\\metrics\\_pairwise_distances_reduction\\_dispatcher.py:471\u001b[0m, in \u001b[0;36mArgKminClassMode.is_usable_for\u001b[1;34m(cls, X, Y, metric)\u001b[0m\n\u001b[0;32m    448\u001b[0m \u001b[38;5;129m@classmethod\u001b[39m\n\u001b[0;32m    449\u001b[0m \u001b[38;5;28;01mdef\u001b[39;00m \u001b[38;5;21mis_usable_for\u001b[39m(\u001b[38;5;28mcls\u001b[39m, X, Y, metric) \u001b[38;5;241m-\u001b[39m\u001b[38;5;241m>\u001b[39m \u001b[38;5;28mbool\u001b[39m:\n\u001b[0;32m    450\u001b[0m \u001b[38;5;250m    \u001b[39m\u001b[38;5;124;03m\"\"\"Return True if the dispatcher can be used for the given parameters.\u001b[39;00m\n\u001b[0;32m    451\u001b[0m \n\u001b[0;32m    452\u001b[0m \u001b[38;5;124;03m    Parameters\u001b[39;00m\n\u001b[1;32m   (...)\u001b[0m\n\u001b[0;32m    468\u001b[0m \u001b[38;5;124;03m    True if the PairwiseDistancesReduction can be used, else False.\u001b[39;00m\n\u001b[0;32m    469\u001b[0m \u001b[38;5;124;03m    \"\"\"\u001b[39;00m\n\u001b[0;32m    470\u001b[0m     \u001b[38;5;28;01mreturn\u001b[39;00m (\n\u001b[1;32m--> 471\u001b[0m         ArgKmin\u001b[38;5;241m.\u001b[39mis_usable_for(X, Y, metric)\n\u001b[0;32m    472\u001b[0m         \u001b[38;5;66;03m# TODO: Support CSR matrices.\u001b[39;00m\n\u001b[0;32m    473\u001b[0m         \u001b[38;5;129;01mand\u001b[39;00m \u001b[38;5;129;01mnot\u001b[39;00m issparse(X)\n\u001b[0;32m    474\u001b[0m         \u001b[38;5;129;01mand\u001b[39;00m \u001b[38;5;129;01mnot\u001b[39;00m issparse(Y)\n\u001b[0;32m    475\u001b[0m         \u001b[38;5;66;03m# TODO: implement Euclidean specialization with GEMM.\u001b[39;00m\n\u001b[0;32m    476\u001b[0m         \u001b[38;5;129;01mand\u001b[39;00m metric \u001b[38;5;129;01mnot\u001b[39;00m \u001b[38;5;129;01min\u001b[39;00m (\u001b[38;5;124m\"\u001b[39m\u001b[38;5;124meuclidean\u001b[39m\u001b[38;5;124m\"\u001b[39m, \u001b[38;5;124m\"\u001b[39m\u001b[38;5;124msqeuclidean\u001b[39m\u001b[38;5;124m\"\u001b[39m)\n\u001b[0;32m    477\u001b[0m     )\n",
      "File \u001b[1;32mC:\\ProgramData\\anaconda3\\Lib\\site-packages\\sklearn\\metrics\\_pairwise_distances_reduction\\_dispatcher.py:115\u001b[0m, in \u001b[0;36mBaseDistancesReductionDispatcher.is_usable_for\u001b[1;34m(cls, X, Y, metric)\u001b[0m\n\u001b[0;32m    101\u001b[0m \u001b[38;5;28;01mdef\u001b[39;00m \u001b[38;5;21mis_valid_sparse_matrix\u001b[39m(X):\n\u001b[0;32m    102\u001b[0m     \u001b[38;5;28;01mreturn\u001b[39;00m (\n\u001b[0;32m    103\u001b[0m         isspmatrix_csr(X)\n\u001b[0;32m    104\u001b[0m         \u001b[38;5;129;01mand\u001b[39;00m\n\u001b[1;32m   (...)\u001b[0m\n\u001b[0;32m    110\u001b[0m         X\u001b[38;5;241m.\u001b[39mindices\u001b[38;5;241m.\u001b[39mdtype \u001b[38;5;241m==\u001b[39m X\u001b[38;5;241m.\u001b[39mindptr\u001b[38;5;241m.\u001b[39mdtype \u001b[38;5;241m==\u001b[39m np\u001b[38;5;241m.\u001b[39mint32\n\u001b[0;32m    111\u001b[0m     )\n\u001b[0;32m    113\u001b[0m is_usable \u001b[38;5;241m=\u001b[39m (\n\u001b[0;32m    114\u001b[0m     get_config()\u001b[38;5;241m.\u001b[39mget(\u001b[38;5;124m\"\u001b[39m\u001b[38;5;124menable_cython_pairwise_dist\u001b[39m\u001b[38;5;124m\"\u001b[39m, \u001b[38;5;28;01mTrue\u001b[39;00m)\n\u001b[1;32m--> 115\u001b[0m     \u001b[38;5;129;01mand\u001b[39;00m (is_numpy_c_ordered(X) \u001b[38;5;129;01mor\u001b[39;00m is_valid_sparse_matrix(X))\n\u001b[0;32m    116\u001b[0m     \u001b[38;5;129;01mand\u001b[39;00m (is_numpy_c_ordered(Y) \u001b[38;5;129;01mor\u001b[39;00m is_valid_sparse_matrix(Y))\n\u001b[0;32m    117\u001b[0m     \u001b[38;5;129;01mand\u001b[39;00m X\u001b[38;5;241m.\u001b[39mdtype \u001b[38;5;241m==\u001b[39m Y\u001b[38;5;241m.\u001b[39mdtype\n\u001b[0;32m    118\u001b[0m     \u001b[38;5;129;01mand\u001b[39;00m X\u001b[38;5;241m.\u001b[39mdtype \u001b[38;5;129;01min\u001b[39;00m (np\u001b[38;5;241m.\u001b[39mfloat32, np\u001b[38;5;241m.\u001b[39mfloat64)\n\u001b[0;32m    119\u001b[0m     \u001b[38;5;129;01mand\u001b[39;00m metric \u001b[38;5;129;01min\u001b[39;00m \u001b[38;5;28mcls\u001b[39m\u001b[38;5;241m.\u001b[39mvalid_metrics()\n\u001b[0;32m    120\u001b[0m )\n\u001b[0;32m    122\u001b[0m \u001b[38;5;28;01mreturn\u001b[39;00m is_usable\n",
      "File \u001b[1;32mC:\\ProgramData\\anaconda3\\Lib\\site-packages\\sklearn\\metrics\\_pairwise_distances_reduction\\_dispatcher.py:99\u001b[0m, in \u001b[0;36mBaseDistancesReductionDispatcher.is_usable_for.<locals>.is_numpy_c_ordered\u001b[1;34m(X)\u001b[0m\n\u001b[0;32m     98\u001b[0m \u001b[38;5;28;01mdef\u001b[39;00m \u001b[38;5;21mis_numpy_c_ordered\u001b[39m(X):\n\u001b[1;32m---> 99\u001b[0m     \u001b[38;5;28;01mreturn\u001b[39;00m \u001b[38;5;28mhasattr\u001b[39m(X, \u001b[38;5;124m\"\u001b[39m\u001b[38;5;124mflags\u001b[39m\u001b[38;5;124m\"\u001b[39m) \u001b[38;5;129;01mand\u001b[39;00m X\u001b[38;5;241m.\u001b[39mflags\u001b[38;5;241m.\u001b[39mc_contiguous\n",
      "\u001b[1;31mAttributeError\u001b[0m: 'Flags' object has no attribute 'c_contiguous'"
     ]
    }
   ],
   "source": [
    "accuracy = neigh.score(X_test, y_test)\n",
    "print(f\"Accuracy = \",accuracy)"
   ]
  },
  {
   "cell_type": "code",
   "execution_count": 38,
   "id": "0aae3752",
   "metadata": {},
   "outputs": [
    {
     "name": "stdout",
     "output_type": "stream",
     "text": [
      "Accuracy: 0.8\n"
     ]
    }
   ],
   "source": [
    "accuracy = knn.score(X_test, y_test)\n",
    "print(\"Accuracy:\", accuracy)"
   ]
  },
  {
   "cell_type": "code",
   "execution_count": 45,
   "id": "98822bad",
   "metadata": {},
   "outputs": [
    {
     "ename": "AttributeError",
     "evalue": "'Flags' object has no attribute 'c_contiguous'",
     "output_type": "error",
     "traceback": [
      "\u001b[1;31m---------------------------------------------------------------------------\u001b[0m",
      "\u001b[1;31mAttributeError\u001b[0m                            Traceback (most recent call last)",
      "Cell \u001b[1;32mIn[45], line 1\u001b[0m\n\u001b[1;32m----> 1\u001b[0m predicted_labels \u001b[38;5;241m=\u001b[39m neigh\u001b[38;5;241m.\u001b[39mpredict(X_test)\n\u001b[0;32m      2\u001b[0m \u001b[38;5;28mprint\u001b[39m(predicted_labels)\n",
      "File \u001b[1;32mC:\\ProgramData\\anaconda3\\Lib\\site-packages\\sklearn\\neighbors\\_classification.py:246\u001b[0m, in \u001b[0;36mKNeighborsClassifier.predict\u001b[1;34m(self, X)\u001b[0m\n\u001b[0;32m    244\u001b[0m check_is_fitted(\u001b[38;5;28mself\u001b[39m, \u001b[38;5;124m\"\u001b[39m\u001b[38;5;124m_fit_method\u001b[39m\u001b[38;5;124m\"\u001b[39m)\n\u001b[0;32m    245\u001b[0m \u001b[38;5;28;01mif\u001b[39;00m \u001b[38;5;28mself\u001b[39m\u001b[38;5;241m.\u001b[39mweights \u001b[38;5;241m==\u001b[39m \u001b[38;5;124m\"\u001b[39m\u001b[38;5;124muniform\u001b[39m\u001b[38;5;124m\"\u001b[39m:\n\u001b[1;32m--> 246\u001b[0m     \u001b[38;5;28;01mif\u001b[39;00m \u001b[38;5;28mself\u001b[39m\u001b[38;5;241m.\u001b[39m_fit_method \u001b[38;5;241m==\u001b[39m \u001b[38;5;124m\"\u001b[39m\u001b[38;5;124mbrute\u001b[39m\u001b[38;5;124m\"\u001b[39m \u001b[38;5;129;01mand\u001b[39;00m ArgKminClassMode\u001b[38;5;241m.\u001b[39mis_usable_for(\n\u001b[0;32m    247\u001b[0m         X, \u001b[38;5;28mself\u001b[39m\u001b[38;5;241m.\u001b[39m_fit_X, \u001b[38;5;28mself\u001b[39m\u001b[38;5;241m.\u001b[39mmetric\n\u001b[0;32m    248\u001b[0m     ):\n\u001b[0;32m    249\u001b[0m         probabilities \u001b[38;5;241m=\u001b[39m \u001b[38;5;28mself\u001b[39m\u001b[38;5;241m.\u001b[39mpredict_proba(X)\n\u001b[0;32m    250\u001b[0m         \u001b[38;5;28;01mif\u001b[39;00m \u001b[38;5;28mself\u001b[39m\u001b[38;5;241m.\u001b[39moutputs_2d_:\n",
      "File \u001b[1;32mC:\\ProgramData\\anaconda3\\Lib\\site-packages\\sklearn\\metrics\\_pairwise_distances_reduction\\_dispatcher.py:471\u001b[0m, in \u001b[0;36mArgKminClassMode.is_usable_for\u001b[1;34m(cls, X, Y, metric)\u001b[0m\n\u001b[0;32m    448\u001b[0m \u001b[38;5;129m@classmethod\u001b[39m\n\u001b[0;32m    449\u001b[0m \u001b[38;5;28;01mdef\u001b[39;00m \u001b[38;5;21mis_usable_for\u001b[39m(\u001b[38;5;28mcls\u001b[39m, X, Y, metric) \u001b[38;5;241m-\u001b[39m\u001b[38;5;241m>\u001b[39m \u001b[38;5;28mbool\u001b[39m:\n\u001b[0;32m    450\u001b[0m \u001b[38;5;250m    \u001b[39m\u001b[38;5;124;03m\"\"\"Return True if the dispatcher can be used for the given parameters.\u001b[39;00m\n\u001b[0;32m    451\u001b[0m \n\u001b[0;32m    452\u001b[0m \u001b[38;5;124;03m    Parameters\u001b[39;00m\n\u001b[1;32m   (...)\u001b[0m\n\u001b[0;32m    468\u001b[0m \u001b[38;5;124;03m    True if the PairwiseDistancesReduction can be used, else False.\u001b[39;00m\n\u001b[0;32m    469\u001b[0m \u001b[38;5;124;03m    \"\"\"\u001b[39;00m\n\u001b[0;32m    470\u001b[0m     \u001b[38;5;28;01mreturn\u001b[39;00m (\n\u001b[1;32m--> 471\u001b[0m         ArgKmin\u001b[38;5;241m.\u001b[39mis_usable_for(X, Y, metric)\n\u001b[0;32m    472\u001b[0m         \u001b[38;5;66;03m# TODO: Support CSR matrices.\u001b[39;00m\n\u001b[0;32m    473\u001b[0m         \u001b[38;5;129;01mand\u001b[39;00m \u001b[38;5;129;01mnot\u001b[39;00m issparse(X)\n\u001b[0;32m    474\u001b[0m         \u001b[38;5;129;01mand\u001b[39;00m \u001b[38;5;129;01mnot\u001b[39;00m issparse(Y)\n\u001b[0;32m    475\u001b[0m         \u001b[38;5;66;03m# TODO: implement Euclidean specialization with GEMM.\u001b[39;00m\n\u001b[0;32m    476\u001b[0m         \u001b[38;5;129;01mand\u001b[39;00m metric \u001b[38;5;129;01mnot\u001b[39;00m \u001b[38;5;129;01min\u001b[39;00m (\u001b[38;5;124m\"\u001b[39m\u001b[38;5;124meuclidean\u001b[39m\u001b[38;5;124m\"\u001b[39m, \u001b[38;5;124m\"\u001b[39m\u001b[38;5;124msqeuclidean\u001b[39m\u001b[38;5;124m\"\u001b[39m)\n\u001b[0;32m    477\u001b[0m     )\n",
      "File \u001b[1;32mC:\\ProgramData\\anaconda3\\Lib\\site-packages\\sklearn\\metrics\\_pairwise_distances_reduction\\_dispatcher.py:115\u001b[0m, in \u001b[0;36mBaseDistancesReductionDispatcher.is_usable_for\u001b[1;34m(cls, X, Y, metric)\u001b[0m\n\u001b[0;32m    101\u001b[0m \u001b[38;5;28;01mdef\u001b[39;00m \u001b[38;5;21mis_valid_sparse_matrix\u001b[39m(X):\n\u001b[0;32m    102\u001b[0m     \u001b[38;5;28;01mreturn\u001b[39;00m (\n\u001b[0;32m    103\u001b[0m         isspmatrix_csr(X)\n\u001b[0;32m    104\u001b[0m         \u001b[38;5;129;01mand\u001b[39;00m\n\u001b[1;32m   (...)\u001b[0m\n\u001b[0;32m    110\u001b[0m         X\u001b[38;5;241m.\u001b[39mindices\u001b[38;5;241m.\u001b[39mdtype \u001b[38;5;241m==\u001b[39m X\u001b[38;5;241m.\u001b[39mindptr\u001b[38;5;241m.\u001b[39mdtype \u001b[38;5;241m==\u001b[39m np\u001b[38;5;241m.\u001b[39mint32\n\u001b[0;32m    111\u001b[0m     )\n\u001b[0;32m    113\u001b[0m is_usable \u001b[38;5;241m=\u001b[39m (\n\u001b[0;32m    114\u001b[0m     get_config()\u001b[38;5;241m.\u001b[39mget(\u001b[38;5;124m\"\u001b[39m\u001b[38;5;124menable_cython_pairwise_dist\u001b[39m\u001b[38;5;124m\"\u001b[39m, \u001b[38;5;28;01mTrue\u001b[39;00m)\n\u001b[1;32m--> 115\u001b[0m     \u001b[38;5;129;01mand\u001b[39;00m (is_numpy_c_ordered(X) \u001b[38;5;129;01mor\u001b[39;00m is_valid_sparse_matrix(X))\n\u001b[0;32m    116\u001b[0m     \u001b[38;5;129;01mand\u001b[39;00m (is_numpy_c_ordered(Y) \u001b[38;5;129;01mor\u001b[39;00m is_valid_sparse_matrix(Y))\n\u001b[0;32m    117\u001b[0m     \u001b[38;5;129;01mand\u001b[39;00m X\u001b[38;5;241m.\u001b[39mdtype \u001b[38;5;241m==\u001b[39m Y\u001b[38;5;241m.\u001b[39mdtype\n\u001b[0;32m    118\u001b[0m     \u001b[38;5;129;01mand\u001b[39;00m X\u001b[38;5;241m.\u001b[39mdtype \u001b[38;5;129;01min\u001b[39;00m (np\u001b[38;5;241m.\u001b[39mfloat32, np\u001b[38;5;241m.\u001b[39mfloat64)\n\u001b[0;32m    119\u001b[0m     \u001b[38;5;129;01mand\u001b[39;00m metric \u001b[38;5;129;01min\u001b[39;00m \u001b[38;5;28mcls\u001b[39m\u001b[38;5;241m.\u001b[39mvalid_metrics()\n\u001b[0;32m    120\u001b[0m )\n\u001b[0;32m    122\u001b[0m \u001b[38;5;28;01mreturn\u001b[39;00m is_usable\n",
      "File \u001b[1;32mC:\\ProgramData\\anaconda3\\Lib\\site-packages\\sklearn\\metrics\\_pairwise_distances_reduction\\_dispatcher.py:99\u001b[0m, in \u001b[0;36mBaseDistancesReductionDispatcher.is_usable_for.<locals>.is_numpy_c_ordered\u001b[1;34m(X)\u001b[0m\n\u001b[0;32m     98\u001b[0m \u001b[38;5;28;01mdef\u001b[39;00m \u001b[38;5;21mis_numpy_c_ordered\u001b[39m(X):\n\u001b[1;32m---> 99\u001b[0m     \u001b[38;5;28;01mreturn\u001b[39;00m \u001b[38;5;28mhasattr\u001b[39m(X, \u001b[38;5;124m\"\u001b[39m\u001b[38;5;124mflags\u001b[39m\u001b[38;5;124m\"\u001b[39m) \u001b[38;5;129;01mand\u001b[39;00m X\u001b[38;5;241m.\u001b[39mflags\u001b[38;5;241m.\u001b[39mc_contiguous\n",
      "\u001b[1;31mAttributeError\u001b[0m: 'Flags' object has no attribute 'c_contiguous'"
     ]
    }
   ],
   "source": [
    "predicted_labels = neigh.predict(X_test)\n",
    "print(predicted_labels)"
   ]
  },
  {
   "cell_type": "code",
   "execution_count": 39,
   "id": "daa4b444",
   "metadata": {},
   "outputs": [
    {
     "data": {
      "image/png": "[encoded data removed]",
      "text/plain": [
       "<Figure size 640x480 with 1 Axes>"
      ]
     },
     "metadata": {},
     "output_type": "display_data"
    }
   ],
   "source": [
    "import matplotlib.pyplot as plt\n",
    "from sklearn.datasets import make_classification\n",
    "from sklearn.neighbors import KNeighborsClassifier\n",
    "from sklearn.model_selection import train_test_split\n",
    "\n",
    "X, y = make_classification(n_samples=200, n_features=2, n_informative=2, n_redundant=0, random_state=42)\n",
    "\n",
    "X_train, X_test, y_train, y_test = train_test_split(X, y, test_size=0.3, random_state=42)\n",
    "k_values = list(range(1, 12))\n",
    "accuracy_values_knn = []\n",
    "\n",
    "\n",
    "for k in k_values:\n",
    "    knn = KNeighborsClassifier(n_neighbors=k)\n",
    "    knn.fit(X_train, y_train)\n",
    "\n",
    "    accuracy = knn.score(X_test, y_test)\n",
    "    accuracy_values_knn.append(accuracy)\n",
    "plt.plot(k_values, accuracy_values_knn, marker='o', label='k-NN (k=3)')\n",
    "plt.xlabel('Number of Neighbors (k)')\n",
    "plt.ylabel('Accuracy')\n",
    "plt.title('Accuracy vs. Number of Neighbors (k)')\n",
    "plt.legend()\n",
    "plt.grid(True)\n",
    "plt.show()"
   ]
  },
  {
   "cell_type": "code",
   "execution_count": null,
   "id": "32e65303",
   "metadata": {},
   "outputs": [],
   "source": []
  }
 ],
 "metadata": {
  "kernelspec": {
   "display_name": "Python 3 (ipykernel)",
   "language": "python",
   "name": "python3"
  },
  "language_info": {
   "codemirror_mode": {
    "name": "ipython",
    "version": 3
   },
   "file_extension": ".py",
   "mimetype": "text/x-python",
   "name": "python",
   "nbconvert_exporter": "python",
   "pygments_lexer": "ipython3",
   "version": "3.11.4"
  }
 },
 "nbformat": 4,
 "nbformat_minor": 5
}
